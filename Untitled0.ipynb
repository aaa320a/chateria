{
  "nbformat": 4,
  "nbformat_minor": 0,
  "metadata": {
    "colab": {
      "provenance": []
    },
    "kernelspec": {
      "name": "python3",
      "display_name": "Python 3"
    },
    "language_info": {
      "name": "python"
    }
  },
  "cells": [
    {
      "cell_type": "code",
      "execution_count": null,
      "metadata": {
        "id": "i4nadtV6TZMY"
      },
      "outputs": [],
      "source": []
    },
    {
      "cell_type": "markdown",
      "source": [
        "# Zadanie 1\n",
        "# Które z następujących zadań wymagają w Twojej opinii inteligencji od człowieka:\n",
        "\n",
        "*   wypełnianie deklaracji PIT, - tak, znajomość liczb i operacji na nich\n",
        "*   streszczanie tekstu, - tak, znajomość języka i umiejętność operowania nim\n",
        "*   tłumaczenie tekstu, - tak, znajomość przynajmniej dwóch języków i umiejętność wymiany znaczenia pomiędzy nimi\n",
        "*   klasyfikacja tekstu do kategorii tematycznych, - tak, znajomość języka i umiejętność dopasowania do ustalonych kategorii\n",
        "*   odpowiadanie na proste pytania zadawane w języku\n",
        "naturalnym (np. polskim), - tak, znajomość języka i umiejętność stowrzenia wypowiedzi będącej odpowiedzią\n",
        "*   układanie rozkładu jazdy transportu miejskiego, - tak, znajomość czasu i umiejętność dysponowania nim bez towrzenia sprzeczności\n",
        "*   programowanie (pisanie programów komputerowych), - tak, znajomość języka programowania i umiejętność posługiwania się nim\n",
        "*   „programowanie” kanałów telewizyjnych, - tak, umiejętność i wiedza o falach radiowych\n",
        "*   testowanie oprogramowania, - tak, znajomość na czym było stworzone oprogramowanie i co się liczy jako błąd\n",
        "*   komponowanie muzyki, - tak, znajomość dźwięku i umiejętność dopasowania go do siebie\n",
        "*   rozwiązywanie układów równań, - tak, znajomość liczb i umiejętność przeprowadzania na nich operacji\n",
        "*   symboliczne obliczanie pochodnych funkcji, - tak, znajomość liczb i umiejętność przeprowadzania na nich operacji\n",
        "*   symboliczne całkowanie funkcji, - tak, znajomość liczb i umiejętność przeprowadzania na nich operacji\n",
        "*   kierowanie samochodem. - tak, znajomość ustalonych zasad drogowych, oraz posiadanie umiejętności manualnych do jazdy\n",
        "\n",
        "#Zadanie 2\n",
        "#Które z następujących problemów można uznać za mieszczące się w zakresie sztucznej inteligencji:\n",
        "\n",
        "*   streszczanie tekstu, - tak, ai aktualnie jest w stanie interpretować język i wybierać z niego kluczowe treści\n",
        "*   tłumaczenie tekstu, - tak, ai jest w stanie znać kilka języków naturalnych i mieć umiejętność wymiany znaczenia słów w różnych językach\n",
        "*   klasyfikacja tekstu do kategorii tematycznych, - tak, ai aktualnie jest w stanie interpretować tekst i go kategoryzować ze względu na ustanowione zasady\n",
        "*   odpowiadanie na proste pytania zadawane w języku naturalnym, - tak, ai aktualnie zostało nauczone sporej ilości wiadomości i jest w stanie odpowiedzieć na wiele pytań\n",
        "*   rozwiązywanie układów równań, - tak, ai aktualnie jest w stanie wykonywać wiele operacji matematycznych\n",
        "*   układanie rozkładu jazdy, - tak, ai jest w stanie znaleźć zależności pomiędzy czasem i ustalić kolejność aby czas się nie pokrywał i był możliwy dojazd\n",
        "*   rozwiązywanie układów równań liniowych, - tak, ai aktualnie jest w stanie wykonywać wiele operacji matematycznyc\n",
        "*   symboliczne obliczanie pochodnych, - tak, ai aktualnie jest w stanie wykonywać wiele operacji matematycznych\n",
        "*   symboliczne całkowanie, - tak, ai aktualnie jest w stanie wykonywać wiele operacji matematycznych\n",
        "*   kierowanie samochodem. - jeszcze nie w pełni\n",
        "\n",
        "#Zadanie 3\n",
        "#Które z poniższych rodzajów komunikacyjnego zachowania człowieka mogą być obecnie skutecznie imitowane przez sztuczne systemy (odpowiednio oprogramowane maszyny):\n",
        "\n",
        "*   rozmowa towarzyska, - nie w pełni, brakuje umiejętnośći zrozumienia przez ai pewnych konceptów, oraz słów nie często używanych, regionalnych, slangowych, oraz wyłapania ukrytego znaczenia wypowiedzi\n",
        "*   dyskusja polityczna, - nie w pełni, nie rozumie niektórych konceptów który nie są logiczne, oraz może być jednostronne, bądź zbyt łatwe do zmiany opinii\n",
        "*   dyskusja naukowa, - nie w pełni, nie rozumie niektórych, bądź nieprawidłowo interpretuje badania naukowe i ustalane przez nie fakty\n",
        "*   odpowiadanie na pytania klientów w telefonicznej infolinii, - nie w pełni, klient może zadać zbyt szczegółowe pytanie na które ai nie zna odpowiedzi, bądź może źle zrozumieć co powiedział klient i nie dać odpowiedzi\n",
        "*   odpowiadanie na pytania klientów w internetowej infolinii.- nie w pełni, klient może zadać zbyt szczegółowe pytanie na które ai nie zna odpowiedzi, bądź mogą wystąpić literówki których ai nie zrozumie i nie domyśli się znaczenia słowa\n",
        "\n",
        "#Zadanie 4\n",
        "#Do zadań skorzystaj z załączonej listy Chatbotów (Chatterbotów) lub znajdź własne.\n",
        "\n",
        "*   Przeprowadź rozmowę z chatbotem. Spróbuj zdefiniować różnice pomiędzy\n",
        "botem udającym człowieka (chatgpt = C) a botem\n",
        "„asystentem, służącym” (eMMa - media markt = E).\n",
        "*   Sprawdź dwa boty z obu z tych rodzajów na występowanie zachowań:\n",
        "**   a) opowiadanie żartów, - C - opowiedz mi żart\n",
        "Dlaczego komputerowi nigdy nie jest zimno?\n",
        "Bo zawsze ma Windows! - E - opowiedz mi żart\n",
        "Czy dobrze rozumiem, że masz na myśli jeden z tematów poniżej?\n",
        "Ile dni będę czekać na dostawę?\n",
        "Wybierz temat:\n",
        "**   b) przytaczanie cytatów z twoich wypowiedzi, lub znanych osób, - C - Napisz jeden losowy cytat Tesli\n",
        "„Myśl jest źródłem wszelkiej energii.” - Nikola Tesla - E - Napisz jeden losowy cytat Tesli\n",
        "W tej sprawie chętnie połączę Cię z konsultantem.\n",
        "Czy chcesz połączyć się z konsultantem?\n",
        "**   c) nawiązywanie wypowiedzi do słów kluczowych, - C -\n",
        "- E -\n",
        "**   d) zadawanie dużej liczby pytań,  - C -\n",
        "- E -\n",
        "**   e) powracanie do początku wypowiedzi,  sekwencyjne powtarzanie,  - C -\n",
        "- E -\n",
        "**   f) zadawanie pytań powstających z twoich wypowiedzi,  - C -\n",
        "- E -\n",
        "**   g) odpowiadanie wymijająco, ogólnikowo,  - C -\n",
        "- E -\n",
        "**   h) częsta zmiana tematu rozmowy,  - C -\n",
        "- E -\n",
        "**   i) problemy z utrzymaniem wątków.  - C -\n",
        "- E -"
      ],
      "metadata": {
        "id": "7LybfKZrTbPv"
      }
    },
    {
      "cell_type": "code",
      "source": [],
      "metadata": {
        "id": "Ty1L0YWCW7e2"
      },
      "execution_count": null,
      "outputs": []
    }
  ]
}